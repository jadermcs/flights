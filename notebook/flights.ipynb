{
 "cells": [
  {
   "cell_type": "code",
   "execution_count": 1,
   "metadata": {},
   "outputs": [],
   "source": [
    "import glob\n",
    "import pandas as pd\n",
    "import urllib.request"
   ]
  },
  {
   "cell_type": "code",
   "execution_count": 2,
   "metadata": {},
   "outputs": [
    {
     "name": "stdout",
     "output_type": "stream",
     "text": [
      "1987\n",
      "1988\n",
      "1989\n",
      "1990\n",
      "1991\n",
      "1992\n",
      "1993\n",
      "1994\n",
      "1995\n",
      "1996\n",
      "1997\n",
      "1998\n",
      "1999\n",
      "2000\n",
      "2001\n",
      "2002\n",
      "2003\n",
      "2004\n",
      "2005\n",
      "2006\n",
      "2007\n",
      "2008\n"
     ]
    }
   ],
   "source": [
    "# for year in range(1987,2009):\n",
    "#     filename = \"{}.csv.bz2\".format(year)\n",
    "#     urllib.request.urlretrieve(\"http://stat-computing.org/dataexpo/2009/{}\".format(filename),\n",
    "#                                \"../data/{}\".format(filename))\n",
    "#     print(year)"
   ]
  },
  {
   "cell_type": "code",
   "execution_count": 19,
   "metadata": {},
   "outputs": [],
   "source": [
    "df = pd.concat([pd.read_csv(x, index_col=None, skiprows=lambda i: i % 100 != 0, encoding=\"iso-8859-1\")\n",
    "                for x in glob.glob(\"../data/*.csv.gz\")], axis=0, ignore_index=True)"
   ]
  },
  {
   "cell_type": "code",
   "execution_count": 20,
   "metadata": {},
   "outputs": [
    {
     "name": "stdout",
     "output_type": "stream",
     "text": [
      "<class 'pandas.core.frame.DataFrame'>\n",
      "RangeIndex: 811709 entries, 0 to 811708\n",
      "Data columns (total 29 columns):\n",
      "Year                 811709 non-null int64\n",
      "Month                811709 non-null int64\n",
      "DayofMonth           811709 non-null int64\n",
      "DayOfWeek            811709 non-null int64\n",
      "DepTime              796409 non-null float64\n",
      "CRSDepTime           811709 non-null int64\n",
      "ArrTime              794449 non-null float64\n",
      "CRSArrTime           811709 non-null int64\n",
      "UniqueCarrier        811709 non-null object\n",
      "FlightNum            811709 non-null int64\n",
      "TailNum              438946 non-null object\n",
      "ActualElapsedTime    794449 non-null float64\n",
      "CRSElapsedTime       811475 non-null float64\n",
      "AirTime              427707 non-null float64\n",
      "ArrDelay             794449 non-null float64\n",
      "DepDelay             796409 non-null float64\n",
      "Origin               811709 non-null object\n",
      "Dest                 811709 non-null object\n",
      "Distance             809699 non-null float64\n",
      "TaxiIn               439256 non-null float64\n",
      "TaxiOut              439256 non-null float64\n",
      "Cancelled            811709 non-null int64\n",
      "CancellationCode     0 non-null float64\n",
      "Diverted             811709 non-null int64\n",
      "CarrierDelay         0 non-null float64\n",
      "WeatherDelay         0 non-null float64\n",
      "NASDelay             0 non-null float64\n",
      "SecurityDelay        0 non-null float64\n",
      "LateAircraftDelay    0 non-null float64\n",
      "dtypes: float64(16), int64(9), object(4)\n",
      "memory usage: 179.6+ MB\n"
     ]
    }
   ],
   "source": [
    "df.info()"
   ]
  },
  {
   "cell_type": "code",
   "execution_count": null,
   "metadata": {},
   "outputs": [],
   "source": []
  }
 ],
 "metadata": {
  "kernelspec": {
   "display_name": "Python 3",
   "language": "python",
   "name": "python3"
  },
  "language_info": {
   "codemirror_mode": {
    "name": "ipython",
    "version": 3
   },
   "file_extension": ".py",
   "mimetype": "text/x-python",
   "name": "python",
   "nbconvert_exporter": "python",
   "pygments_lexer": "ipython3",
   "version": "3.7.3"
  }
 },
 "nbformat": 4,
 "nbformat_minor": 2
}
